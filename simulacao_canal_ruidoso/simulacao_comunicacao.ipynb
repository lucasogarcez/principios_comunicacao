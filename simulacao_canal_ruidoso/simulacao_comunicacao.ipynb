{
 "cells": [
  {
   "cell_type": "markdown",
   "id": "552cfeb0",
   "metadata": {},
   "source": [
    "# Simulação de comunicação digital com canal ruidoso\n",
    "## Visão Geral do Projeto\n",
    "**Objetivo:** Criar uma simulação de comunicação digital com canal ruidoso, onde o professor possa ajustar parâmetros como taxa de erro, intensidade de ruído, tipo de modulação, e visualizar impactos no desempenho do sistema de comunicação, incluindo métricas como Taxa de Erro de Bit (BER), Sinal Ruído (SNR), etc.\n",
    "\n",
    "### Ferramentas\n",
    "- **Plotly** para gráficos interativos.\n",
    "- **ipywidget** para interação com sliders e controles.\n",
    "- **NumPy** e **SciPy** para cálculos e geração de sinais.\n",
    "- **Jupyter Notebook** (para protótipo inicial), e eventualmente transformar em aplicativo.\n",
    "- **Streamlit** para, posteriormente, subir o aplicativo para produção. "
   ]
  },
  {
   "cell_type": "markdown",
   "id": "fd190c8f",
   "metadata": {},
   "source": [
    "## Configurações básicas\n",
    "Instalação das bibliotecas necessárias para o projeto.\n",
    "Para uma maneira automatizada:"
   ]
  },
  {
   "cell_type": "code",
   "execution_count": null,
   "id": "b9313da3",
   "metadata": {},
   "outputs": [],
   "source": [
    "pip install requirements.txt"
   ]
  },
  {
   "cell_type": "markdown",
   "id": "09257030",
   "metadata": {},
   "source": [
    "Ou, de maneira manual:"
   ]
  },
  {
   "cell_type": "code",
   "execution_count": null,
   "id": "c73a32ee",
   "metadata": {},
   "outputs": [],
   "source": [
    "pip install plotly ipywidgets numpy scipy"
   ]
  },
  {
   "cell_type": "markdown",
   "id": "ac25be99",
   "metadata": {},
   "source": [
    "## Geração de Sinais e Canal (BWSG)\n",
    "Para a simulação, será gerado e plotado um sinal binário no domínio do tempo e aplicando um canal com ruído Gaussiano (como o BSWG).\n",
    "\n",
    "### Gerando o Sinal Binário\n",
    "O sinal binário é simplesmente uma sequência e 0s e 1s que representam os bits sendo transmitidos."
   ]
  },
  {
   "cell_type": "code",
   "execution_count": null,
   "id": "016a2553",
   "metadata": {},
   "outputs": [],
   "source": [
    "import numpy as np\n",
    "import plotly.graph_objects as go\n",
    "\n",
    "# Gerando um sinal binário aleatório de 100 bits\n",
    "n_bits = 100\n",
    "rng = np.random.default_rng()\n",
    "sinal = rng.integers(0, 2, n_bits)\n",
    "\n",
    "# Plotando o sinal\n",
    "figura = go.Figure(data=go.Scatter(x=np.arange(n_bits), y=sinal, mode='lines', name='Sinal Binário'))\n",
    "figura.update_layout(title=\"Sinal Binário Transmitido\", xaxis_title=\"Tempo\", yaxis_title=\"Valor do Sinal\")\n",
    "figura.show()"
   ]
  },
  {
   "cell_type": "markdown",
   "id": "d0eaf3a0",
   "metadata": {},
   "source": [
    "### Adicionando Ruído Gaussiano (Canal BWSG)\n",
    "Adiciona-se, então, o ruído Gaussiano ao sinal, para simular a distorção que ocorre em um canal de comunicação ruidoso."
   ]
  },
  {
   "cell_type": "code",
   "execution_count": null,
   "id": "8a09437a",
   "metadata": {},
   "outputs": [],
   "source": [
    "def adicionar_ruido(sinal, desvio_padrao):\n",
    "    ruido = np.random.normal(0, desvio_padrao, len(sinal))\n",
    "    sinal_ruidoso = sinal + ruido\n",
    "    \n",
    "    return sinal_ruidoso\n",
    "\n",
    "# Parâmetro de desvio padrão para o ruído (intensidade do ruído)\n",
    "desvio_padrao = 0.5\n",
    "sinal_ruidoso = adicionar_ruido(sinal, desvio_padrao)\n",
    "\n",
    "# Plotando os sinais\n",
    "figure = go.Figure()\n",
    "figure.add_trace(go.Scatter(x=np.arange(n_bits), y=sinal, mode='lines', name='Sinal Original'))\n",
    "figure.add_trace(go.Scatter(x=np.arange(n_bits), y=sinal_ruidoso, mode='lines', name='Sinal com Ruído'))\n",
    "figure.update_layout(title=\"Sinal Original e Sinal Ruidoso\", xaxis_title=\"Tempo\", yaxis_title=\"Valor do Sinal\")\n",
    "figure.show()"
   ]
  },
  {
   "cell_type": "markdown",
   "id": "b746e8cd",
   "metadata": {},
   "source": [
    "## Interatividade com os parâmetros do canal\n",
    "Torna os parâmetros utilizados do canal em algo variável/interativo."
   ]
  },
  {
   "cell_type": "code",
   "execution_count": null,
   "id": "a0a7dbe9",
   "metadata": {},
   "outputs": [],
   "source": [
    "import ipywidgets as widgets\n",
    "from IPython.display import display\n",
    "\n",
    "# Função interativa para atualizar o gráfico conforme a mudança do ruído\n",
    "def atualiza_grafico(desvio_padrao):\n",
    "    sinal_ruidoso = adicionar_ruido(sinal, desvio_padrao)\n",
    "\n",
    "    # Plotando os sinais interativos\n",
    "    fig = go.Figure()\n",
    "    fig.add_trace(go.Scatter(x=np.arange(n_bits), y=sinal, mode='lines', name='Sinal Original'))\n",
    "    fig.add_trace(go.Scatter(x=np.arange(n_bits), y=sinal_ruidoso, mode='lines', name='Sinal com Ruído'))\n",
    "    fig.update_layout(title=f\"Sinal Original e Sinal Ruidoso (Desvio Padrão = {desvio_padrao})\", \n",
    "                      xaxis_title=\"Tempo\", yaxis_title=\"Valor do Sinal\")\n",
    "    fig.show()\n",
    "    \n",
    "# Slider interativo para o desvio padrão do ruído\n",
    "slider_ruido = widgets.FloatSlider(min=0, max=3, step=0.1, value=0.5)\n",
    "widgets.interactive(atualiza_grafico, desvio_padrao=slider_ruido)"
   ]
  },
  {
   "cell_type": "markdown",
   "id": "0ff15b79",
   "metadata": {},
   "source": [
    "## Análise de Desempenho\n",
    "A partir daqui é possível identificar, através de vários indicadores, as diferenças entre o sinal original e o mesmo sinal, agora ruidoso.\n",
    "\n",
    "### Taxa de Erro de Bit (BER) - Cálculo da BER\n",
    "Para calcular a BER, primeiro é preciso definir a decodificação do sinal. Supõe-se, então, que o receptor aplique uma medida para decidir se o bit transmitido é 0 ou 1 com base no valor do sinal recebido."
   ]
  },
  {
   "cell_type": "code",
   "execution_count": null,
   "id": "6a2d6ce3",
   "metadata": {},
   "outputs": [],
   "source": [
    "def calcula_ber(sinal_original, sinal_recebido):\n",
    "    # Decodificação simples: Se o valor recebido for maior que 0.5, o bit é 1, senão é 0\n",
    "    sinal_decodificado = np.where(sinal_recebido > 0.5, 1, 0)\n",
    "    \n",
    "    # Calculando erros (diferença entre sinal transmitido e recebido)\n",
    "    erros = np.sum(sinal_decodificado != sinal_original)\n",
    "    ber = erros / len(sinal_original)\n",
    "    return ber\n",
    "\n",
    "# Cálculo do BER para o sinal original e o sinal ruidoso\n",
    "ber = calcula_ber(sinal, sinal_ruidoso)\n",
    "print(f\"Taxa de Erro de Bit (BER): {ber:.4f}\")"
   ]
  },
  {
   "cell_type": "markdown",
   "id": "2b732c06",
   "metadata": {},
   "source": [
    "### Sinal-Ruído (SNR) - Cálculo do SNR\n",
    "O SNR (Sinal-Ruído) pode ser calculado pela razão entre a potência do sinal e a potência do ruído."
   ]
  },
  {
   "cell_type": "code",
   "execution_count": null,
   "id": "a0984f6d",
   "metadata": {},
   "outputs": [],
   "source": [
    "def calcula_snr(sinal_original, sinal_ruidoso):\n",
    "    potencia_sinal = np.mean(sinal_original**2)\n",
    "    potencia_ruido = np.mean((sinal_ruidoso - sinal_original)**2)\n",
    "    snr = 10 * np.log10(potencia_sinal / potencia_ruido)\n",
    "    return snr\n",
    "\n",
    "# Cálculo do SNR para o sinal original e ruidoso\n",
    "snr = calcula_snr(sinal, sinal_ruidoso)\n",
    "print(f\"SNR (Sinal-Ruído): {snr:.2f} dB\")"
   ]
  },
  {
   "cell_type": "markdown",
   "id": "962a42ed",
   "metadata": {},
   "source": [
    "# Conclusão\n",
    "Esse projeto explorar como o ruído afeta a transmissão de sinais e como isso impacta o desempenho de um sistema de comunicação."
   ]
  }
 ],
 "metadata": {
  "kernelspec": {
   "display_name": "venv",
   "language": "python",
   "name": "python3"
  },
  "language_info": {
   "codemirror_mode": {
    "name": "ipython",
    "version": 3
   },
   "file_extension": ".py",
   "mimetype": "text/x-python",
   "name": "python",
   "nbconvert_exporter": "python",
   "pygments_lexer": "ipython3",
   "version": "3.12.6"
  }
 },
 "nbformat": 4,
 "nbformat_minor": 5
}
